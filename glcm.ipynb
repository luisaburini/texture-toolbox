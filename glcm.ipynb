{
 "cells": [
  {
   "cell_type": "markdown",
   "metadata": {
    "collapsed": true
   },
   "source": [
    "# FUNCTION glcm"
   ]
  },
  {
   "cell_type": "markdown",
   "metadata": {},
   "source": [
    "<strong> 2D offsets </strong>\n",
    "\n",
    "|Directions| Degrees |\n",
    "|-----------|-------------|\n",
    "| [0, D]   | zero degrees |\n",
    "| [D, -D]  | 45 degrees   |          \n",
    "| [D, 0]   | 90 degrees   | \n",
    "| [D, D]   | 135 degrees  | \n",
    "\n",
    "<strong> 3D offsets </strong>\n",
    "\n",
    "Standard 2D directions\n",
    "\n",
    "|Directions| Degrees |\n",
    "|-----------|-------------|\n",
    "| [0, D]   | zero degrees |\n",
    "| [D, -D]  | 45 degrees   |          \n",
    "| [D, 0]   | 90 degrees   | \n",
    "| [D, D]   | 135 degrees  | \n",
    "\n",
    "Additional 9 directions\n",
    "\n",
    "\n",
    "| Directions  | Degrees zy  | Degrees yx  |\n",
    "|-------------|-------------|-------------|\n",
    "| [D 0 -D]    | 0 degrees   | 45 degrees  |\n",
    "| [D 0 0]     | straight up |             |\n",
    "| [D 0 D]     | 0 degrees   | 135 degrees |\n",
    "| [D D 0]     | 90 degrees  | 45 degrees  |\n",
    "| [D -D 0]    | 90 degrees  | 135 degrees |\n",
    "| [D D -D]    | 45 degrees  | 45 degrees  |\n",
    "| [D -D D]    | 45 degrees  | 135 degrees |\n",
    "| [D D D]     | 135 degrees | 45 degrees  |\n",
    "| [D -D -D]   | 135 degrees | 135 degrees |\n"
   ]
  },
  {
   "cell_type": "code",
   "execution_count": 1,
   "metadata": {
    "collapsed": true
   },
   "outputs": [],
   "source": [
    "import numpy as np\n",
    "\n",
    "# 2D implementations\n",
    "\n",
    "def glcm2d_c(levels, arr=[], offset=[], result=[]): # function previously implemented in C\n",
    "    x, y = arr.shape\n",
    "    if np.all(offset ==0):\n",
    "        h = offset.shape\n",
    "    h1, w1 = result.shape\n",
    "    \n",
    "    for i in range (0, x):\n",
    "        for j in range(0, y):\n",
    "            aux = arr[i][j]\n",
    "            rows = i+offset[0]\n",
    "            cols = j+offset[1]\n",
    "            if(rows >= 0 and rows < x):\n",
    "                if(cols < y and cols >= 0):                    \n",
    "                    aux2 = arr[rows][cols]                    \n",
    "                    if(aux >= 0 and aux < levels):\n",
    "                        if(aux2 >= 0 and aux2 < levels):\n",
    "                            result[aux][aux2]= result[aux][aux2]+1\n",
    "    return result \n",
    "\n",
    "def glcm2(levels, offsets, img):\n",
    "    result = np.zeros((levels, levels), dtype=np.uint32)\n",
    "    result = glcm2d_c(levels, img, offset, result)\n",
    "    return result\n",
    "\n",
    "# 3D implementations\n",
    "\n",
    "def glcm3d_c(levels, arr=[], offset=[], result=[]):\n",
    "    z, x, y= arr.shape\n",
    "    h = offset.shape\n",
    "    h1, w1 = result.shape\n",
    "    for k in range(0, z):\n",
    "        for i in range(0, x):\n",
    "            for j in range(0, y):\n",
    "                aux = arr[k][i][j]\n",
    "                slices = k+offset[0]\n",
    "                rows = i+offset[1]\n",
    "                cols = j+offset[2]\n",
    "                if(slices >= 0 and slices < z):\n",
    "                    if(rows >=0 and rows < x):\n",
    "                        if(cols >=0 and cols<y):\n",
    "                            aux2 = arr[slices][rows][cols]\n",
    "                            if(aux >=0 and aux<levels):\n",
    "                                if(aux2 >=0 and aux2 < levels):\n",
    "                                    result[aux][aux2] = result[aux][aux2]+1\n",
    "    return result\n",
    "\n",
    "def glcm3(levels, offset, img):\n",
    "    result = np.zeros((levels,levels), dtype = np.int32)\n",
    "    result = glcm3d_c(levels, img, offset, result)\n",
    "    return result\n",
    "\n",
    "def glcm(levels, offsets, img):\n",
    "    result = np.zeros((levels, levels), dtype = np.int32)\n",
    "    print 'len(img)'\n",
    "    print len(img.shape)\n",
    "    if len((img.shape))==2:\n",
    "        if type(offsets).__module__ != np.__name__:\n",
    "            #print 'offsets in 2d case DOES NOT EXIST'\n",
    "            offsets = np.array([0,1], dtype = np.int32)\n",
    "        glcm2d_c(levels, img, offsets, result)\n",
    "    elif len((img.shape)) == 3:\n",
    "        if type(offsets).__module__ != np.__name__:\n",
    "            offsets = np.array([0,0,1], dtype = np.int32)\n",
    "        glcm3d_c(levels, img, offsets, result)\n",
    "    else:\n",
    "        print 'Invalid Input, Please use another array'\n",
    "    return result"
   ]
  },
  {
   "cell_type": "markdown",
   "metadata": {},
   "source": [
    "# EXAMPLES"
   ]
  },
  {
   "cell_type": "markdown",
   "metadata": {},
   "source": [
    "<strong> 2D Examples </strong>"
   ]
  },
  {
   "cell_type": "code",
   "execution_count": 2,
   "metadata": {
    "scrolled": true
   },
   "outputs": [
    {
     "name": "stdout",
     "output_type": "stream",
     "text": [
      "[[5 2 1]\n",
      " [1 4 4]\n",
      " [2 1 5]]\n",
      "\n",
      "[[0 4 2]\n",
      " [1 4 1]\n",
      " [5 0 3]]\n",
      "\n",
      "[[0 3 4]\n",
      " [2 5 2]\n",
      " [5 1 2]]\n",
      "\n",
      "[[1 2 4]\n",
      " [2 3 2]\n",
      " [3 1 2]]\n",
      "\n"
     ]
    }
   ],
   "source": [
    "arr = np.array([[1,2,2,0,0,1],[0,0,1,2,2,1],[1,1,0,0,0,2],[1,1,1,2,2,2],[1,1,2,2,0,0]], dtype = np.uint8)\n",
    "levels = int(arr.max()+1)\n",
    "offset = np.array([0,1], dtype = np.int32) # orientation 0 degrees\n",
    "result = glcm2(levels, offset, arr)\n",
    "print result\n",
    "print\n",
    "offset = np.array([1,-1], dtype = np.int32) # orientation 45 degrees\n",
    "result = glcm2(levels, offset, arr)\n",
    "print result\n",
    "print\n",
    "offset = np.array([1,0], dtype = np.int32) # orientation 90 degrees\n",
    "result = glcm2(levels, offset, arr)\n",
    "print result\n",
    "print\n",
    "offset = np.array([1,1], dtype = np.int32) # orientation 135 degrees\n",
    "result = glcm2(levels, offset, arr)\n",
    "print result\n",
    "print"
   ]
  },
  {
   "cell_type": "markdown",
   "metadata": {},
   "source": [
    "<strong> 3D Examples </strong>"
   ]
  },
  {
   "cell_type": "markdown",
   "metadata": {},
   "source": [
    "Standard directions"
   ]
  },
  {
   "cell_type": "code",
   "execution_count": 11,
   "metadata": {},
   "outputs": [
    {
     "name": "stdout",
     "output_type": "stream",
     "text": [
      "[[15  6  3]\n",
      " [ 3 12 12]\n",
      " [ 6  3 15]]\n",
      "\n",
      "[[ 0 12  6]\n",
      " [ 3 12  3]\n",
      " [15  0  9]]\n",
      "\n",
      "[[ 0  9 12]\n",
      " [ 6 15  6]\n",
      " [15  3  6]]\n",
      "\n",
      "[[ 3  6 12]\n",
      " [ 6  9  6]\n",
      " [ 9  3  6]]\n",
      "\n"
     ]
    }
   ],
   "source": [
    "\n",
    "arr = np.array([[[1,2,2,0,0,1],[0,0,1,2,2,1],[1,1,0,0,0,2],[1,1,1,2,2,2],[1,1,2,2,0,0]],\n",
    "                [[1,2,2,0,0,1],[0,0,1,2,2,1],[1,1,0,0,0,2],[1,1,1,2,2,2],[1,1,2,2,0,0]],\n",
    "                [[1,2,2,0,0,1],[0,0,1,2,2,1],[1,1,0,0,0,2],[1,1,1,2,2,2],[1,1,2,2,0,0]]], dtype=np.uint8)\n",
    "levels = int(arr.max()+1)\n",
    "\n",
    "offset = np.array([0,0,1], dtype = np.int32) # orientation 0 degrees (example same slices: equal to Nslices*0degree 2D case)\n",
    "result = glcm3(levels, offset, arr)\n",
    "print result\n",
    "print\n",
    "offset = np.array([0,1,-1], dtype = np.int32) # orientation 45 degrees (example same slices: equal to Nslices*45degree 2D case)\n",
    "result = glcm3(levels, offset, arr)\n",
    "print result\n",
    "print\n",
    "offset = np.array([0,1,0], dtype = np.int32) # orientation 90 degrees (example same slices: equal to Nslices*90degree 2D case)\n",
    "result = glcm3(levels, offset, arr)\n",
    "print result\n",
    "print\n",
    "offset = np.array([0,1,1], dtype = np.int32) # orientation 135 degrees (example same slices: equal to Nslices*135degree 2D case)\n",
    "result = glcm3(levels, offset, arr)\n",
    "print result\n",
    "print"
   ]
  },
  {
   "cell_type": "markdown",
   "metadata": {
    "collapsed": true
   },
   "source": [
    "Additional 9 directions"
   ]
  },
  {
   "cell_type": "code",
   "execution_count": 4,
   "metadata": {},
   "outputs": [
    {
     "name": "stdout",
     "output_type": "stream",
     "text": [
      "[[10  2  4]\n",
      " [ 4  8  2]\n",
      " [ 2  8 10]]\n",
      "\n",
      "[[18  0  0]\n",
      " [ 0 22  0]\n",
      " [ 0  0 20]]\n",
      "\n",
      "[[10  4  2]\n",
      " [ 2  8  8]\n",
      " [ 4  2 10]]\n",
      "\n",
      "[[ 0  6  8]\n",
      " [ 4 10  4]\n",
      " [10  2  4]]\n",
      "\n",
      "[[ 0  4 10]\n",
      " [ 6 10  2]\n",
      " [ 8  4  4]]\n",
      "\n",
      "[[ 0  8  4]\n",
      " [ 2  8  2]\n",
      " [10  0  6]]\n",
      "\n",
      "[[ 0  2 10]\n",
      " [ 8  8  0]\n",
      " [ 4  2  6]]\n",
      "\n",
      "[[2 4 8]\n",
      " [4 6 4]\n",
      " [6 2 4]]\n",
      "\n",
      "[[2 4 6]\n",
      " [4 6 2]\n",
      " [8 4 4]]\n",
      "\n"
     ]
    }
   ],
   "source": [
    "offset = np.array([1,0,-1], dtype = np.int32) # 0 degrees/45 degrees (example same slices: equal to (Nslices-1)*0degree 2D case)\n",
    "result = glcm3(levels, offset, arr)\n",
    "print result\n",
    "print\n",
    "offset = np.array([1,0,0], dtype = np.int32) # straight up (example same slices: equal to np.unique())\n",
    "result = glcm3(levels, offset, arr)\n",
    "print result\n",
    "print\n",
    "offset = np.array([1,0,1], dtype = np.int32) # 0 degree/135 degrees (example same slices: equal to (Nslices-1)*transpose of 0degree 2D case)\n",
    "result = glcm3(levels, offset, arr)\n",
    "print result\n",
    "print\n",
    "offset = np.array([1,1,0], dtype = np.int32) # 90 degrees/45 degrees (example same slices: equal to (Nslices-1)*90 degree 2D case)\n",
    "result = glcm3(levels, offset, arr)\n",
    "print result\n",
    "print\n",
    "offset = np.array([1,-1,0], dtype = np.int32) # 90 degrees/135 degrees (example same slices: equal to (Nslices-1)*transpose of 90 degree 2D case)\n",
    "result = glcm3(levels, offset, arr)\n",
    "print result\n",
    "print\n",
    "offset = np.array([1,1,-1], dtype = np.int32) # 45 degrees/45 degrees (example same slices: equal to (Nslices-1)*45 degree 2D case)\n",
    "result = glcm3(levels, offset, arr)\n",
    "print result\n",
    "print\n",
    "offset = np.array([1,-1,1], dtype = np.int32) # 45 degree/135 degrees (example same slices: equal to (Nslices-1)*transpose of 45 degree 2D case)\n",
    "result = glcm3(levels, offset, arr)\n",
    "print result\n",
    "print\n",
    "offset = np.array([1,1,1], dtype = np.int32) # 135 degrees/45 degrees (example same slices: equal to (Nslices-1)*135 degree 2D case)\n",
    "result = glcm3(levels, offset, arr)\n",
    "print result\n",
    "print\n",
    "offset = np.array([1,-1,-1], dtype = np.int32) # 135 degrees/135 degrees (example same slices: equal to (Nslices-1)*transpose of 135 degree 2D case)\n",
    "result = glcm3(levels, offset, arr)\n",
    "print result\n",
    "print"
   ]
  }
 ],
 "metadata": {
  "kernelspec": {
   "display_name": "Python 2",
   "language": "python",
   "name": "python2"
  },
  "language_info": {
   "codemirror_mode": {
    "name": "ipython",
    "version": 2
   },
   "file_extension": ".py",
   "mimetype": "text/x-python",
   "name": "python",
   "nbconvert_exporter": "python",
   "pygments_lexer": "ipython2",
   "version": "2.7.13"
  }
 },
 "nbformat": 4,
 "nbformat_minor": 2
}
