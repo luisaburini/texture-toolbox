{
 "cells": [
  {
   "cell_type": "markdown",
   "metadata": {
    "collapsed": true
   },
   "source": [
    "# FUNCTION glcmdesc"
   ]
  },
  {
   "cell_type": "markdown",
   "metadata": {},
   "source": [
    "The glcmdesc function computes the descriptors from the gray level co-occurence matrix.\n"
   ]
  },
  {
   "cell_type": "markdown",
   "metadata": {},
   "source": [
    "<strong> glcm, v = glcmdesc(f, offset=[],mask=[]) </strong>\n",
    "<ul>\n",
    "    <li> <strong> Output </strong> </li>\n",
    "        <ul> \n",
    "            <li> <strong> v: </strong>array with GLCM descriptors.</li>\n",
    "            <li> <strong> glcm: </strong> Gray Level Co-Ocurrence Matrix. </li>\n",
    "        </ul> \n",
    "    <li> <strong> Input </strong> </li>\n",
    "        <ul>\n",
    "            <li> <strong> f: </strong> input image (2D or 3D) </li>\n",
    "            <li> <strong> offset: </strong> defines the distance and orientation. </li>\n",
    "            <li> <strong> mask: </strong> defines the mask. </li>\n",
    "        </ul>\n",
    "</ul>\n",
    "\n",
    "<strong> 2D offsets </strong>\n",
    "\n",
    "|Directions| Degrees |\n",
    "|-----------|-------------|\n",
    "| [0, D]   | zero degrees |\n",
    "| [D, -D]  | 45 degrees   |          \n",
    "| [D, 0]   | 90 degrees   | \n",
    "| [D, D]   | 135 degrees  | \n",
    "\n",
    "<strong> 3D offsets </strong>\n",
    "Standard 2D directions\n",
    "\n",
    "|Directions| Degrees |\n",
    "|-----------|-------------|\n",
    "| [0, D]   | zero degrees |\n",
    "| [D, -D]  | 45 degrees   |          \n",
    "| [D, 0]   | 90 degrees   | \n",
    "| [D, D]   | 135 degrees  | \n",
    "\n",
    "Additional 9 directions\n",
    "\n",
    "\n",
    "| Directions  | Degrees zy  | Degrees yx  |\n",
    "|-------------|-------------|-------------|\n",
    "| [D 0 -D]    | 0 degrees   | 45 degrees  |\n",
    "| [D 0 0]     | straight up |             |\n",
    "| [D 0 D]     | 0 degrees   | 135 degrees |\n",
    "| [D D 0]     | 90 degrees  | 45 degrees  |\n",
    "| [D -D 0]    | 90 degrees  | 135 degrees |\n",
    "| [D D -D]    | 45 degrees  | 45 degrees  |\n",
    "| [D -D D]    | 45 degrees  | 135 degrees |\n",
    "| [D D D]     | 135 degrees | 45 degrees  |\n",
    "| [D -D -D]   | 135 degrees | 135 degrees |\n",
    "\n",
    "The glcmdesc function extracts from the co-occorence matrix a set of descriptors."
   ]
  },
  {
   "cell_type": "markdown",
   "metadata": {},
   "source": [
    "# FUNCTION CODE"
   ]
  },
  {
   "cell_type": "code",
   "execution_count": 1,
   "metadata": {},
   "outputs": [
    {
     "name": "stdout",
     "output_type": "stream",
     "text": [
      "Importing Jupyter notebook from auxiliary_functions.ipynb\n",
      "Importing Jupyter notebook from glcm.ipynb\n",
      "Importing Jupyter notebook from glcmdesc.ipynb\n"
     ]
    }
   ],
   "source": [
    "import numpy as np\n",
    "import nbimporter\n",
    "from auxiliary_functions import *\n",
    "from glcm import *\n",
    "\n",
    "def glcmdesc(f, offset=[], mask=[]):\n",
    "        lev = int(f.max()+1)  # levels\n",
    "        if mask != []: # if there is a mask, it is necessary to set a invalid value to all the pixels that are not in the mask\n",
    "            aux = f.copy()\n",
    "            hist,_ = np.histogram(np.ravel(f[mask]), bins=lev, range=(0,lev-1)) #look for an empty level inside the mask\n",
    "            if np.argwhere(hist==0).shape[0] != 0:  #if there is an empty level\n",
    "                new_v = np.argwhere(hist==0).max() # it is selected the highest empty gray level\n",
    "            else:  # if there isn't an empty level\n",
    "                new_v = lev # the chosen invalid is f.max()+1\n",
    "                lev+=1\n",
    "            aux[~mask] = new_v # all pixels that are not inside the mask receive this invalid value\n",
    "            g = glcm(lev, offset, aux) # the glcm matrix is computed\n",
    "            g[new_v,:] = 0 #the rows and columns that corresponds to the invalid value (outside the mask) are nulled\n",
    "            g[:,new_v] = 0 #it is important to notice that null rows and columns do not change the descriptors\n",
    "        else: # if there is no mask\n",
    "            g = glcm(lev, offset, f)\n",
    "            \n",
    "        \n",
    "        ## glcm normalization ##\n",
    "        if g.sum() != 0:\n",
    "            g = g.astype(float)/g.sum()\n",
    "            \n",
    "        ## compute auxiliary variables ##\n",
    "        (num_level, num_level2) = g.shape\n",
    "        I, J = np.ogrid[0:num_level, 0:num_level]\n",
    "        I = 1+ np.array(range(num_level)).reshape((num_level, 1))\n",
    "        J = 1+ np.array(range(num_level)).reshape((1, num_level))\n",
    "        diff_i = I - np.apply_over_axes(np.sum, (I * g), axes=(0, 1))[0, 0]\n",
    "        diff_j = J - np.apply_over_axes(np.sum, (J * g), axes=(0, 1))[0, 0]\n",
    "        std_i = np.sqrt(np.apply_over_axes(np.sum, (g * (diff_i) ** 2),axes=(0, 1))[0, 0])\n",
    "        std_j = np.sqrt(np.apply_over_axes(np.sum, (g * (diff_j) ** 2),axes=(0, 1))[0, 0])\n",
    "        cov = np.apply_over_axes(np.sum, (g * (diff_i * diff_j)),axes=(0, 1))[0, 0]\n",
    "        \n",
    "        gxy = np.zeros(2*g.shape[0]-1)   ### g x+y\n",
    "        gx_y = np.zeros(g.shape[0])  ### g x-y\n",
    "        for i in xrange(g.shape[0]):\n",
    "            for j in xrange(g.shape[0]):\n",
    "                gxy[i+j] += g[i,j]\n",
    "                gx_y[np.abs(i-j)] += g[i,j]\n",
    "                \n",
    "        mx_y = (gx_y*np.arange(len(gx_y))).sum()\n",
    "        v = np.zeros(11)\n",
    "        i,j = np.indices(g.shape)+1\n",
    "        ii = np.arange(len(gxy))+2\n",
    "        ii_ = np.arange(len(gx_y))\n",
    "        \n",
    "        ## compute descriptors ##\n",
    "        v[0] = np.apply_over_axes(np.sum, (g ** 2), axes=(0, 1))[0, 0] # Angular second moment\n",
    "        v[1] = np.apply_over_axes(np.sum, (g * ((I - J) ** 2)), axes=(0, 1))[0, 0] # Contrast\n",
    "        if std_i>1e-15 and std_j>1e-15: # handle the special case of standard deviations near zero\n",
    "            v[2] = cov/(std_i*std_j)#v[2] = greycoprops(g,'correlation') # Correlation\n",
    "        else:\n",
    "            v[2] = 1\n",
    "        v[3] = np.apply_over_axes(np.sum, (g* (diff_i) ** 2),axes=(0, 1))[0, 0]# Sum of squares\n",
    "        v[4] = np.sum(g * (1. / (1. + (I - J) ** 2))) # Inverse difference moment\n",
    "        v[5] = (gxy*ii).sum() # Sum average\n",
    "        v[6] = ((ii-v[5])*(ii-v[5])*gxy).sum() # Sum variance\n",
    "        v[7] = -1*(gxy*np.log10(gxy+ np.spacing(1))).sum() # Sum entropy\n",
    "        v[8] = -1*(g*np.log10(g+np.spacing(1))).sum() # Entropy\n",
    "        v[9] = ((ii_-mx_y)*(ii_-mx_y)*gx_y).sum() # Difference variance\n",
    "        v[10] = -1*(gx_y*np.log10(gx_y++np.spacing(1))).sum() # Difference entropy\n",
    "        \n",
    "        return g, v"
   ]
  },
  {
   "cell_type": "markdown",
   "metadata": {},
   "source": [
    "# EXAMPLES"
   ]
  },
  {
   "cell_type": "markdown",
   "metadata": {},
   "source": [
    "<strong> 2D Examples </strong>\n"
   ]
  },
  {
   "cell_type": "markdown",
   "metadata": {},
   "source": [
    "Numeric Example:"
   ]
  },
  {
   "cell_type": "code",
   "execution_count": 24,
   "metadata": {},
   "outputs": [
    {
     "name": "stdout",
     "output_type": "stream",
     "text": [
      "len(img)\n",
      "2\n",
      "len(img)\n",
      "2\n",
      "Gray Level Co-occurence Matrix descriptors\n",
      "[ 0.18164062  1.375      -0.16984388  0.60058594  0.6125      3.1875\n",
      "  0.96484375  0.56703915  0.81387275  0.609375    0.46999155]\n",
      "\n",
      "\n"
     ]
    }
   ],
   "source": [
    "import nbimporter\n",
    "from auxiliary_functions import *\n",
    "from glcmdesc import *\n",
    "f = np.array( [[2,1,1,0,0,0,0,0,0],\n",
    "               [1,2,0,0,0,2,0,1,0],\n",
    "               [1,0,2,1,0,2,0,1,0],\n",
    "               [0,0,0,2,0,1,1,0,0]], dtype=np.uint8)\n",
    "offset=[]\n",
    "lev = int(f.max()+1)  # levels\n",
    "g = glcm(lev, offset, f)\n",
    "\n",
    "glcm, v = glcmdesc(f, offset)\n",
    "print 'Gray Level Co-occurence Matrix descriptors'\n",
    "print v\n",
    "print\n",
    "print"
   ]
  },
  {
   "cell_type": "markdown",
   "metadata": {},
   "source": [
    "Numeric Example with a Different Orientation:"
   ]
  },
  {
   "cell_type": "code",
   "execution_count": 22,
   "metadata": {},
   "outputs": [
    {
     "name": "stdout",
     "output_type": "stream",
     "text": [
      "len(img)\n",
      "2\n",
      "Gray Level Co-occurence Matrix descriptors\n",
      "[ 0.30555556  0.5         0.71095787  0.57638889  0.75        3.5         2.25\n",
      "  0.45154499  0.54938312  0.25        0.30103   ]\n",
      "\n",
      "\n"
     ]
    }
   ],
   "source": [
    "f = np.array( [[2,1,1,0,0],\n",
    "               [1,2,0,0,0],\n",
    "               [1,0,2,1,0],\n",
    "               [0,0,0,2,0]], dtype=np.uint8)\n",
    "\n",
    "offset = np.array([1,1],dtype=np.int32)\n",
    "glcm, v = glcmdesc(f,offset)\n",
    "print 'Gray Level Co-occurence Matrix descriptors'\n",
    "print v\n",
    "print\n",
    "print"
   ]
  },
  {
   "cell_type": "markdown",
   "metadata": {},
   "source": [
    "<strong> Examples with Mask </strong> "
   ]
  },
  {
   "cell_type": "code",
   "execution_count": 20,
   "metadata": {},
   "outputs": [
    {
     "name": "stdout",
     "output_type": "stream",
     "text": [
      "len(img)\n",
      "2\n",
      "Gray Level Co-occurence Matrix descriptors\n",
      "[ 0.625       1.          1.          0.          0.8         5.5         0.75\n",
      "  0.24421905  0.24421905  0.75        0.24421905]\n",
      "\n",
      "\n"
     ]
    }
   ],
   "source": [
    "f  = np.array( [[1,2,2,2],\n",
    "                [2,2,1,1],\n",
    "                [1,2,0,1],\n",
    "                [2,1,0,1]], dtype=np.uint8)\n",
    "\n",
    "glcm,v = glcmdesc(f,mask = f!=1)\n",
    "print 'Gray Level Co-occurence Matrix descriptors'\n",
    "print v\n",
    "print\n",
    "print"
   ]
  },
  {
   "cell_type": "markdown",
   "metadata": {},
   "source": [
    "Comparison between matrices and descriptors using mask or using no mask"
   ]
  },
  {
   "cell_type": "code",
   "execution_count": 6,
   "metadata": {},
   "outputs": [
    {
     "name": "stdout",
     "output_type": "stream",
     "text": [
      "2\n",
      "len(img)\n",
      "2\n",
      "Gray Level Co-occurence Matrix descriptors\n",
      "[ 0.38888889  2.         -0.31622777  0.55555556  0.6         5.          1.\n",
      "  0.30103     0.43924729  1.          0.30103   ]\n"
     ]
    }
   ],
   "source": [
    "f  = np.array( [[2,2,2,1],\n",
    "                [2,2,0,1],\n",
    "                [0,2,0,1],\n",
    "                [1,1,1,1]], dtype=np.uint8)\n",
    "print len(f.shape)\n",
    "glcm,v = glcmdesc(f,mask = f!=1)\n",
    "print 'Gray Level Co-occurence Matrix descriptors'\n",
    "print v"
   ]
  },
  {
   "cell_type": "code",
   "execution_count": 18,
   "metadata": {},
   "outputs": [
    {
     "name": "stdout",
     "output_type": "stream",
     "text": [
      "2\n",
      "len(img)\n",
      "2\n",
      "Gray Level Co-occurence Matrix descriptors\n",
      "[ 0.38888889  2.         -0.31622777  0.55555556  0.6         5.          1.\n",
      "  0.30103     0.43924729  1.          0.30103   ]\n",
      "\n"
     ]
    }
   ],
   "source": [
    "f  = np.array( [[2,2,2],\n",
    "                [2,2,0],\n",
    "                [0,2,0]], dtype=np.uint8)\n",
    "print len(f.shape)\n",
    "glcm,v = glcmdesc(f)\n",
    "print 'Gray Level Co-occurence Matrix descriptors'\n",
    "print v\n",
    "print"
   ]
  },
  {
   "cell_type": "markdown",
   "metadata": {},
   "source": [
    "<strong> 3D Examples </strong>"
   ]
  },
  {
   "cell_type": "code",
   "execution_count": 17,
   "metadata": {},
   "outputs": [
    {
     "name": "stdout",
     "output_type": "stream",
     "text": [
      "len(img)\n",
      "3\n",
      "Gray Level Co-occurence Matrix descriptors\n",
      "[ 0.1488      0.8         0.41432451  0.64        0.744       4.08        1.9136\n",
      "  0.684676    0.87752801  0.4864      0.40986496]\n",
      "\n",
      "\n"
     ]
    }
   ],
   "source": [
    "f = np.array([[[1,2,2,0,0,1],[0,0,1,2,2,1],[1,1,0,0,0,2],[1,1,1,2,2,2],[1,1,2,2,0,0]],\n",
    "             [[1,2,2,0,0,1],[0,0,1,2,2,1],[1,1,0,0,0,2],[1,1,1,2,2,2],[1,1,2,2,0,0]],\n",
    "             [[1,2,2,0,0,1],[0,0,1,2,2,1],[1,1,0,0,0,2],[1,1,1,2,2,2],[1,1,2,2,0,0]]], dtype=np.uint8)\n",
    "glcm,v = glcmdesc(f) # orientation 0 degrees\n",
    "print 'Gray Level Co-occurence Matrix descriptors'\n",
    "print v\n",
    "print\n",
    "print"
   ]
  },
  {
   "cell_type": "markdown",
   "metadata": {},
   "source": [
    "Different Orientation"
   ]
  },
  {
   "cell_type": "code",
   "execution_count": 9,
   "metadata": {},
   "outputs": [
    {
     "name": "stdout",
     "output_type": "stream",
     "text": [
      "len(img)\n",
      "3\n",
      "Gray Level Co-occurence Matrix descriptors\n",
      "[ 0.18        1.7        -0.31083494  0.69        0.57        4.1         0.89\n",
      "  0.48195333  0.78379231  0.7         0.47601599]\n"
     ]
    }
   ],
   "source": [
    "glcm,v = glcmdesc(f,offset = np.array([0,1,-1], dtype = np.int32)) # orientation 45 degrees\n",
    "print 'Gray Level Co-occurence Matrix descriptors'\n",
    "print v"
   ]
  },
  {
   "cell_type": "code",
   "execution_count": 10,
   "metadata": {},
   "outputs": [
    {
     "name": "stdout",
     "output_type": "stream",
     "text": [
      "len(img)\n",
      "3\n",
      "Gray Level Co-occurence Matrix descriptors\n",
      "[  3.35555556e-01   0.00000000e+00   1.00000000e+00   6.32222222e-01\n",
      "   1.00000000e+00   4.06666667e+00   2.52888889e+00   4.75671184e-01\n",
      "   4.75671184e-01   0.00000000e+00  -9.64327467e-17]\n"
     ]
    }
   ],
   "source": [
    "glcm,v = glcmdesc(f,offset = np.array([1,0,0], dtype = np.int32)) # straigh up\n",
    "print 'Gray Level Co-occurence Matrix descriptors'\n",
    "print v"
   ]
  },
  {
   "cell_type": "code",
   "execution_count": 16,
   "metadata": {},
   "outputs": [
    {
     "name": "stdout",
     "output_type": "stream",
     "text": [
      "len(img)\n",
      "3\n",
      "Gray Level Co-occurence Matrix descriptors\n",
      "[ 0.  0.  1.  0.  0.  0.  0. -0. -0.  0. -0.]\n",
      "\n",
      "\n"
     ]
    }
   ],
   "source": [
    "glcm,v = glcmdesc(f,offset = np.array([3,0,-3], dtype = np.int32)) # straigh up\n",
    "print 'Gray Level Co-occurence Matrix descriptors'\n",
    "print v\n",
    "print\n",
    "print"
   ]
  },
  {
   "cell_type": "markdown",
   "metadata": {},
   "source": [
    "Using Mask:"
   ]
  },
  {
   "cell_type": "code",
   "execution_count": 13,
   "metadata": {},
   "outputs": [
    {
     "name": "stdout",
     "output_type": "stream",
     "text": [
      "len(img)\n",
      "3\n",
      "Gray Level Co-occurence Matrix descriptors\n",
      "[ 0.38        2.8        -0.5         0.64        0.44        4.6         0.84\n",
      "  0.265295    0.44717262  0.84        0.265295  ]\n"
     ]
    }
   ],
   "source": [
    "glcm,v = glcmdesc(f,offset = np.array([0,1,-1], dtype = np.int32),mask=f!=1) # orientation 45 degrees\n",
    "print 'Gray Level Co-occurence Matrix descriptors'\n",
    "print v"
   ]
  },
  {
   "cell_type": "code",
   "execution_count": 14,
   "metadata": {},
   "outputs": [
    {
     "name": "stdout",
     "output_type": "stream",
     "text": [
      "len(img)\n",
      "3\n",
      "Gray Level Co-occurence Matrix descriptors\n",
      "[  5.01385042e-01   0.00000000e+00   1.00000000e+00   9.97229917e-01\n",
      "   1.00000000e+00   4.10526316e+00   3.98891967e+00   3.00428202e-01\n",
      "   3.00428202e-01   0.00000000e+00  -9.64327467e-17]\n"
     ]
    }
   ],
   "source": [
    "glcm,v = glcmdesc(f,offset = np.array([1,0,0], dtype = np.int32),mask=f!=1) # straigh up\n",
    "print 'Gray Level Co-occurence Matrix descriptors'\n",
    "print v"
   ]
  },
  {
   "cell_type": "markdown",
   "metadata": {},
   "source": [
    "# EQUATION"
   ]
  },
  {
   "cell_type": "markdown",
   "metadata": {},
   "source": [
    "The co-occurence matrix becomes the estimate of the joint probability $ p_{d {\\theta}} $ of two pixels, a distance $d$ apart along a given direction $\\theta$ having particular (co-occurring) values $i$ and $j$."
   ]
  },
  {
   "cell_type": "markdown",
   "metadata": {},
   "source": [
    "Let ${\\mu}_x$, ${\\mu}_y$ and $\\rho_x$, $\\rho_y$ denote the mean and standard deviations of the row and column sums of the co-occurence matrix, respectively, related to the marginal distribuitions $p_x(i)$ and $p_y(i)$, and $N_g$ the number of discrete intensity levels."
   ]
  },
  {
   "cell_type": "markdown",
   "metadata": {},
   "source": [
    "<strong>Angular second moment </strong>\n",
    "$$ AngScMom =  \\sum\\limits_{i=1}^{N_g} \\sum\\limits_{j=1}^{N_g} p(i,j)^2 $$ \n",
    "\n",
    "<strong> Contrast </strong>\n",
    "$$ Contrast = \\sum\\limits_{n=0}^{N_g-1}n^2 \\sum\\limits_{i=1}^{N_g} \\sum\\limits_{j=1}^{N_g} p(i,j) $$ \n",
    " $ where $ $n=|i-j|$ \n",
    " \n",
    "<strong> Sum of Squares </strong>\n",
    "$$ SumOfSqs = \\sum\\limits_{i=1}^{N_g} \\sum\\limits_{j=1}^{N_g} (i-\\mu_x)^2 p(i,j) $$ \n",
    "\n",
    "<strong> Inverse Difference Moment </strong>\n",
    "$$ InvDfMom = \\sum\\limits_{i=1}^{N_g} \\sum\\limits_{j=1}^{N_g} \\frac{1}{1+(i+j)^2} p(i,j) $$ \n",
    "\n",
    "<strong> Sum Average </strong>\n",
    "$$ SumAverg = \\sum\\limits_{i=1}^{2 N_g} ip_{x+y}(i) $$ \n",
    "$where$ $p_{x+y}(k) =  \\sum\\limits_{i=1}^{N_g}\\sum\\limits_{j=1}^{N_g} p(i,j) $ $k=i+j$"
   ]
  },
  {
   "cell_type": "code",
   "execution_count": null,
   "metadata": {
    "collapsed": true
   },
   "outputs": [],
   "source": []
  }
 ],
 "metadata": {
  "kernelspec": {
   "display_name": "Python 2",
   "language": "python",
   "name": "python2"
  },
  "language_info": {
   "codemirror_mode": {
    "name": "ipython",
    "version": 2
   },
   "file_extension": ".py",
   "mimetype": "text/x-python",
   "name": "python",
   "nbconvert_exporter": "python",
   "pygments_lexer": "ipython2",
   "version": "2.7.13"
  }
 },
 "nbformat": 4,
 "nbformat_minor": 2
}
