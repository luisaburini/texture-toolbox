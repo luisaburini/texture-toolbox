{
 "cells": [
  {
   "cell_type": "markdown",
   "metadata": {},
   "source": [
    "# FUNCTION gradimg"
   ]
  },
  {
   "cell_type": "markdown",
   "metadata": {},
   "source": [
    "The gradimg function computes the image gradient.\n",
    "\n",
    "<ul> <strong> g = gradimg(f) </strong>\n",
    "       <ul> <li> <strong> Output </strong> </li>\n",
    "           <ul> <li><strong>g: </strong> ndarray, gradient image (2D or 3D)</li>\n",
    "           </ul>\n",
    "       </ul>\n",
    "       <ul> <li> <strong> Input </strong> </li>\n",
    "           <ul> <li><strong>f: </strong> ndarray, input image (2D or 3D)</li>\n",
    "           </ul>\n",
    "       </ul>\n",
    "</ul>\n"
   ]
  },
  {
   "cell_type": "markdown",
   "metadata": {},
   "source": [
    "# FUNCTION CODE"
   ]
  },
  {
   "cell_type": "code",
   "execution_count": 3,
   "metadata": {},
   "outputs": [],
   "source": [
    "import nbimporter\n",
    "import numpy as np\n",
    "from scipy.stats import *\n",
    "from auxiliary_functions import *\n",
    "\n",
    "\n",
    "def gradimg(f):\n",
    "\n",
    "    if len(f.shape) == 2:                              # 2D case\n",
    "        h1 = np.array([[0,1,0],                           # Defining the horizontal mask\n",
    "                    [0,0,0],\n",
    "                    [0,-1,0]])\n",
    "        h2 = np.array([[0,0,0],                           # Defining the vertical mask\n",
    "                    [1,0,-1],\n",
    "                    [0,0,0]])\n",
    "    \n",
    "        aux1 = iaconv(f,h1)[1:-1,1:-1].astype(int)     # Make the convolution between horizontal mask and image\n",
    "        aux2 = iaconv(f,h2)[1:-1,1:-1].astype(int)     # Make the convolution between vertical mask and image\n",
    "        g = np.sqrt(aux1**2 + aux2**2)                    # Use the equation to compute the gradient of an image\n",
    "            \n",
    "        return g\n",
    "            \n",
    "    else:                                              # 3D case\n",
    "        h1 = np.array([[[0,0,0],                          # Defining the horizontal mask \n",
    "                     [0,0,0],\n",
    "                     [0,0,0]],\n",
    "                    [[0,1,0],\n",
    "                     [0,0,0],\n",
    "                     [0,-1,0]],\n",
    "                    [[0,0,0],\n",
    "                     [0,0,0],\n",
    "                     [0,0,0]]])\n",
    "        h2 = np.array([[[0,0,0],                          # Defining the vertical mask\n",
    "                     [0,0,0],\n",
    "                     [0,0,0]],\n",
    "                    [[0,0,0],\n",
    "                     [1,0,-1],\n",
    "                     [0,0,0]],\n",
    "                    [[0,0,0],\n",
    "                     [0,0,0],\n",
    "                     [0,0,0]]])\n",
    "        h3 = np.array([[[0,0,0],                          # Defining the depth mask\n",
    "                     [0,1,0],\n",
    "                     [0,0,0]],\n",
    "                    [[0,0,0],\n",
    "                     [0,0,0],\n",
    "                     [0,0,0]],\n",
    "                    [[0,0,0],\n",
    "                     [0,-1,0],\n",
    "                     [0,0,0]]])  \n",
    "    \n",
    "        aux1 = iaconv(f,h1)[1:-1,1:-1,1:-1].astype(int)# Make the convolution between horizontal mask and image \n",
    "        aux2 = iaconv(f,h2)[1:-1,1:-1,1:-1].astype(int)# Make the convolution between vertical mask and image\n",
    "        aux3 = iaconv(f,h3)[1:-1,1:-1,1:-1].astype(int)# Make the convolution between depth mask and image\n",
    "        grad = np.sqrt(aux1**2 + aux2**2 + aux3**2)       # Use the equation to compute the gradient of an image\n",
    "        return grad\n"
   ]
  },
  {
   "cell_type": "code",
   "execution_count": null,
   "metadata": {
    "collapsed": true
   },
   "outputs": [],
   "source": []
  }
 ],
 "metadata": {
  "kernelspec": {
   "display_name": "Python 2",
   "language": "python",
   "name": "python2"
  },
  "language_info": {
   "codemirror_mode": {
    "name": "ipython",
    "version": 2
   },
   "file_extension": ".py",
   "mimetype": "text/x-python",
   "name": "python",
   "nbconvert_exporter": "python",
   "pygments_lexer": "ipython2",
   "version": "2.7.13"
  }
 },
 "nbformat": 4,
 "nbformat_minor": 2
}
