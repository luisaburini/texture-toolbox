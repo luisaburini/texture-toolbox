{
 "cells": [
  {
   "cell_type": "markdown",
   "metadata": {
    "collapsed": true
   },
   "source": [
    "# FUNCTION gradstat\n"
   ]
  },
  {
   "cell_type": "markdown",
   "metadata": {},
   "source": [
    "The gradstat function extracts some relevant statistics from the image gradient computed in the [gradimg](gradimg.ipynb) function.\n",
    "\n",
    "<ul> <strong> g = gradstat(f, mask[]) </strong>\n",
    "       <ul> <li> <strong> Output </strong> </li>\n",
    "           <ul> <li><strong>g: </strong> gradient statistics</li>\n",
    "           </ul>\n",
    "       </ul>\n",
    "       <ul> <li> <strong> Input </strong> </li>\n",
    "           <ul> <li><strong>f: </strong> ndarray, input image (2D or 3D)</li>\n",
    "                <li><strong>mask: </strong> define the mask </li>\n",
    "           </ul>\n",
    "       </ul>\n",
    "</ul>\n",
    "\n"
   ]
  },
  {
   "cell_type": "code",
   "execution_count": 2,
   "metadata": {
    "collapsed": true
   },
   "outputs": [],
   "source": [
    "import nbimporter\n",
    "from auxiliary_functions import *\n",
    "from scipy.stats import *\n",
    "import numpy as np\n",
    "\n",
    "def gradstat(f,mask=[]):\n",
    "    grad = gradimg(f)\n",
    "    b = iasecross(1)\n",
    "    \n",
    "    if (len(f.shape) == 3):                                                     # 3D Case\n",
    "        if mask != []:\n",
    "            for i in arange(mask.shape[0]):\n",
    "                mask_aux = np.zeros(mask.shape[1]+2, mask.shape[2]+2)\n",
    "                mask_aux[1:-1,1:-1] = mask[i]                                  # zero bounder\n",
    "                mask[i] = iaero(mask_aux,b)[1:-1,1:-1]                         # extract the outside border\n",
    "                #mask[i] = mask[i] ^ iacontour(mask[i])\n",
    "            grad = grad[mask>0]\n",
    "        else:\n",
    "            m = grad>-1 # all pixels\n",
    "            for i in np.arange(m.shape[0]):\n",
    "                m_aux = np.zeros((m.shape[1]+2,m.shape[2]+2))\n",
    "                m_aux[1:-1,1:-1] = m[i]                                        # zero bounder\n",
    "                m[i] = iaero(m_aux,b)[1:-1,1:-1]                               # extract the outside border\n",
    "                m = g>-1 \n",
    "                for i in np.arange(m.shape[0]):\n",
    "                    m[i] = m[i] ^ iacontour(m[i]) # extract the outside border\n",
    "                    grad = g[m]\n",
    "            grad = grad[mask>0]\n",
    "    else:                                                                      # 2D Case\n",
    "        if mask!=[]:\n",
    "            mask_aux = np.zeros((mask.shape[0]+2,mask.shape[1]+2))\n",
    "            mask_aux[1:-1,1:-1] = mask                                         # zero bounder\n",
    "            mask = iaero(mask_aux,b)[1:-1,1:-1]                                # extract the outside border\n",
    "            #mask = mask ^ iacontour(mask)\n",
    "            grad = grad[mask>0]\n",
    "        else:\n",
    "            m = grad>-1                                                        # all pixels\n",
    "            m_aux = np.zeros((m.shape[0]+2,m.shape[1]+2))\n",
    "            m_aux[1:-1,1:-1] = m                                               # zero bounder\n",
    "            m = iaero(m_aux,b)[1:-1,1:-1]                                      # extract the outside border\n",
    "            #m = m ^ iacontour(m)\n",
    "            grad = grad[m>0]\n",
    "    M = np.size(grad)\n",
    "    percNonZeros = 1.0*np.count_nonzero(grad)/M\n",
    "    \n",
    "    \n",
    "    # stats = histstat(grad, np.bincount(grad.ravel()))\n",
    "    return grad,[np.mean(np.ravel(grad)), np.var(np.ravel(grad)), skew(np.ravel(grad)), kurtosis(np.ravel(grad)), percNonZeros]"
   ]
  },
  {
   "cell_type": "markdown",
   "metadata": {},
   "source": [
    "# EXAMPLES"
   ]
  },
  {
   "cell_type": "markdown",
   "metadata": {},
   "source": [
    "Numerical example:"
   ]
  },
  {
   "cell_type": "code",
   "execution_count": 3,
   "metadata": {},
   "outputs": [
    {
     "name": "stdout",
     "output_type": "stream",
     "text": [
      "mean absolute gradient 0.743872397312\n",
      "variance absolute gradient 0.375225285088\n",
      "skewness absolute gradient 0.106509983523\n",
      "kurtosis absolute gradient -0.842523037749\n",
      "percentage of pixels with nonzero gradient 0.642857142857\n"
     ]
    }
   ],
   "source": [
    "import nbimporter\n",
    "import numpy as np\n",
    "from gradimg import *\n",
    "from auxiliary_functions import *\n",
    "\n",
    "np.set_printoptions(precision=2)\n",
    "\n",
    "f = np.array( [[2,2,0,1,1,1,0,0,0],\n",
    "               [1,2,1,1,1,1,1,1,1],\n",
    "               [1,1,1,1,1,1,1,1,1],\n",
    "               [0,0,2,2,2,1,1,0,0]], dtype=np.uint8)\n",
    "\n",
    "_,stats = gradstat(f)\n",
    "print 'mean absolute gradient',stats[0]\n",
    "print 'variance absolute gradient',stats[1]\n",
    "print 'skewness absolute gradient',stats[2]\n",
    "print 'kurtosis absolute gradient',stats[3]\n",
    "print 'percentage of pixels with nonzero gradient',stats[4]"
   ]
  },
  {
   "cell_type": "markdown",
   "metadata": {},
   "source": [
    "Numerical example:"
   ]
  },
  {
   "cell_type": "code",
   "execution_count": 4,
   "metadata": {},
   "outputs": [
    {
     "name": "stdout",
     "output_type": "stream",
     "text": [
      "mean absolute gradient 0.0\n",
      "variance absolute gradient 0.0\n",
      "skewness absolute gradient 0.0\n",
      "kurtosis absolute gradient -3.0\n",
      "percentage of pixels with nonzero gradient 0.0\n",
      "\n",
      "mean absolute gradient 0.5\n",
      "variance absolute gradient 0.25\n",
      "skewness absolute gradient 0.0\n",
      "kurtosis absolute gradient -2.0\n",
      "percentage of pixels with nonzero gradient 0.5\n"
     ]
    },
    {
     "name": "stderr",
     "output_type": "stream",
     "text": [
      "/home/lburini/Documents/IC/lib/python2.7/site-packages/ipykernel_launcher.py:30: DeprecationWarning: elementwise != comparison failed; this will raise an error in the future.\n"
     ]
    }
   ],
   "source": [
    "import nbimporter\n",
    "import numpy as np\n",
    "from gradimg import *\n",
    "from auxiliary_functions import *\n",
    "\n",
    "f = np.array( [[0,0,0,1,1,1,0,0,0],\n",
    "               [1,1,1,1,1,1,1,1,1],\n",
    "               [1,1,1,1,1,1,1,1,1],\n",
    "               [0,0,0,1,1,1,1,0,0]], dtype=np.uint8)\n",
    "\n",
    "grad,stats = gradstat(f,f>0)\n",
    "print 'mean absolute gradient',stats[0]\n",
    "print 'variance absolute gradient',stats[1]\n",
    "print 'skewness absolute gradient',stats[2]\n",
    "print 'kurtosis absolute gradient',stats[3]\n",
    "print 'percentage of pixels with nonzero gradient',stats[4]\n",
    "\n",
    "print \n",
    "grad, stats = gradstat(f)\n",
    "print 'mean absolute gradient',stats[0]\n",
    "print 'variance absolute gradient',stats[1]\n",
    "print 'skewness absolute gradient',stats[2]\n",
    "print 'kurtosis absolute gradient',stats[3]\n",
    "print 'percentage of pixels with nonzero gradient',stats[4]"
   ]
  },
  {
   "cell_type": "markdown",
   "metadata": {},
   "source": [
    "Numerical example 2:"
   ]
  },
  {
   "cell_type": "code",
   "execution_count": 8,
   "metadata": {},
   "outputs": [
    {
     "name": "stdout",
     "output_type": "stream",
     "text": [
      "mean absolute gradient 0.666666666667\n",
      "variance absolute gradient 0.222222222222\n",
      "skewness absolute gradient -0.707106781187\n",
      "kurtosis absolute gradient -1.5\n",
      "percentage of pixels with nonzero gradient 0.666666666667\n",
      "\n",
      "\n"
     ]
    }
   ],
   "source": [
    "import nbimporter \n",
    "from histstat import *\n",
    "from histogram import *\n",
    "\n",
    "f = np.array( [[0,0,0,1,1],\n",
    "               [1,1,1,1,1],\n",
    "               [1,1,1,1,1],\n",
    "               [0,0,0,1,1],\n",
    "               [1,1,1,1,1]], dtype=np.uint8)\n",
    "g = gradimg(f)\n",
    "h = hist(f)\n",
    "print histstat(f, h)\n",
    "print\n",
    "print 'gradient[f]=',g\n",
    "grad, stats = gradstat(f)\n",
    "print 'mean absolute gradient',stats[0]\n",
    "print 'variance absolute gradient',stats[1]\n",
    "print 'skewness absolute gradient',stats[2]\n",
    "print 'kurtosis absolute gradient',stats[3]\n",
    "print 'percentage of pixels with nonzero gradient',stats[4]"
   ]
  },
  {
   "cell_type": "markdown",
   "metadata": {},
   "source": [
    "**3D Example**"
   ]
  },
  {
   "cell_type": "code",
   "execution_count": 14,
   "metadata": {},
   "outputs": [
    {
     "name": "stdout",
     "output_type": "stream",
     "text": [
      "mean absolute gradient 1.27614237492\n",
      "variance absolute gradient 0.038127305612\n",
      "skewness absolute gradient -0.707106781187\n",
      "kurtosis absolute gradient -1.5\n",
      "percentage of pixels with nonzero gradient 1.0\n"
     ]
    }
   ],
   "source": [
    "f = np.array( [[[0,0,0,1,1],\n",
    "                [1,1,1,1,1],\n",
    "                [1,1,1,1,1],\n",
    "                [0,0,0,1,1]],\n",
    "                [[0,0,0,1,1],\n",
    "                 [1,1,1,1,1],\n",
    "                 [1,1,1,1,1],\n",
    "                 [0,0,0,1,1]]], dtype=np.uint8)\n",
    "g = gradimg(f)\n",
    "grad, stats = gradstat(f)\n",
    "m = g>-1 # all pixels\n",
    "\n",
    "print 'mean absolute gradient',stats[0]\n",
    "print 'variance absolute gradient',stats[1]\n",
    "print 'skewness absolute gradient',stats[2]\n",
    "print 'kurtosis absolute gradient',stats[3]\n",
    "print 'percentage of pixels with nonzero gradient',stats[4]"
   ]
  },
  {
   "cell_type": "markdown",
   "metadata": {},
   "source": [
    "# EQUATIONS"
   ]
  },
  {
   "cell_type": "markdown",
   "metadata": {},
   "source": [
    "Let $G(i,j)$ be the gradient matrix computed with 3x3 neighbor\n",
    "\n",
    "<strong>Mean absolute gradient</strong>\n",
    "$$ GrMean = \\frac{1}{M} \\sum\\limits_{i, j  \\in  ROI} G(i,j)$$\n",
    "\n",
    "<strong>Variance of absolute gradient</strong>\n",
    "$$ GrVariance = \\frac{1}{M} \\sum\\limits_{i, j  \\in  ROI} {(G(i,j)- GrMean)^2}$$ \n",
    "\n",
    "<strong>Skewness of absolute gradient</strong>\n",
    "$$ GrSkewness = \\frac{1}{GrVariance^{1.5}} \\frac{1}{M} \\sum\\limits_{i, j  \\in  ROI} {(G(i,j)- GrMean)^3}$$ \n",
    "\n",
    "<strong>Kurtosis of absolute gradient</strong>\n",
    "$$ GrSKurtosis = \\frac{1}{GrVariance^2}\\frac{1}{M} \\sum\\limits_{i, j  \\in  ROI} (G(i,j) - GrMean)^4 - 3$$"
   ]
  }
 ],
 "metadata": {
  "kernelspec": {
   "display_name": "Python 2",
   "language": "python",
   "name": "python2"
  },
  "language_info": {
   "codemirror_mode": {
    "name": "ipython",
    "version": 2
   },
   "file_extension": ".py",
   "mimetype": "text/x-python",
   "name": "python",
   "nbconvert_exporter": "python",
   "pygments_lexer": "ipython2",
   "version": "2.7.13"
  }
 },
 "nbformat": 4,
 "nbformat_minor": 2
}
