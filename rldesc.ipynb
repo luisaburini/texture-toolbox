{
 "cells": [
  {
   "cell_type": "markdown",
   "metadata": {
    "collapsed": true
   },
   "source": [
    "# FUNCTION rldesc\n"
   ]
  },
  {
   "cell_type": "markdown",
   "metadata": {},
   "source": [
    "The rldesc function computes the run length descriptors from the run length matrix found at [iarl](iarl.ipynb)\n",
    "\n",
    "\n",
    "<strong> rl,g = rldesc(f,theta=0,phi=0,mask = []) </strong>\n",
    "<ul>\n",
    "    <li> <strong> Output </strong> </li>\n",
    "        <ul> \n",
    "            <li> <strong> g: </strong>list of descriptors computed from the iarlrun length.</li>\n",
    "            <li> <strong> rl: </strong> run length matrix (gray level x run length)</li>\n",
    "        </ul> \n",
    "    <li> <strong> Input </strong> </li>\n",
    "        <ul>\n",
    "            <li> <strong> f: </strong> input ndarray (2D or 3D) </li>\n",
    "            <li> <strong> theta: </strong> angle (rad) in which the run length matrix must be computed. </li>\n",
    "            <li> <strong> phi: </strong> other angle (rad) in which the run length matrix must be computed (3D cases). </li>\n",
    "        </ul>\n",
    "</ul>\n",
    "\n",
    "The rldesc function computes the descriptors based on the run length matrix."
   ]
  },
  {
   "cell_type": "markdown",
   "metadata": {},
   "source": [
    "# FUNCTION CODE\n"
   ]
  },
  {
   "cell_type": "code",
   "execution_count": 3,
   "metadata": {},
   "outputs": [],
   "source": [
    "import numpy as np\n",
    "import nbimporter\n",
    "from auxiliary_functions import *\n",
    "from iarl import *\n",
    "\n",
    "\n",
    "def rldesc(f,theta=0,phi=0,mask = []):\n",
    "\n",
    "    if mask != []: # if there is a mask\n",
    "        aux = f.copy()\n",
    "        new_v = aux[mask].max() +1# value that the pixels outside the mask must assume\n",
    "        aux[~mask] = new_v # all pixels out of the mask are set with f[mask].max()+1 (maximum value in the mask plus one)\n",
    "        run_length = iarl(aux,theta,phi)*1.0\n",
    "\n",
    "        # extract the lines and columns that corresponds to pixels outside the mask with value new_v\n",
    "        run_length = run_length[:-1,:]# extract the row that represents the pixels out of the mask\n",
    "        run_length = run_length[:,:np.argwhere(np.sum(run_length,axis=0)>0).max()+1]\n",
    "        # in some cases, some different lengths of runs are added in this operation\n",
    "        # on those cases, besides to extracted the row corresponds to new_v\n",
    "        # it must be extracted the columns added in this operations (i.e. all null columns in the end of the matrix)\n",
    "\n",
    "    else:\n",
    "        run_length = iarl(f,theta,phi)\n",
    "    C = run_length.sum()\n",
    "    i,j = np.indices(run_length.shape)+1\n",
    "    # compute descriptors\n",
    "    ShrtREmph = ((run_length/(j*j)).sum())/C\n",
    "    LngREmph = ((run_length*(j*j)).sum())/C\n",
    "    GLevNonUni = (run_length.sum(axis=1)*run_length.sum(axis=1)).sum()/C\n",
    "    RLNonUni = (run_length.sum(axis=0)*run_length.sum(axis=0)).sum()/C\n",
    "    Fraction = C/((run_length*j).sum())\n",
    "    return run_length,[RLNonUni,GLevNonUni,LngREmph,ShrtREmph,Fraction]"
   ]
  },
  {
   "cell_type": "markdown",
   "metadata": {
    "collapsed": true
   },
   "source": [
    "# EXAMPLES\n"
   ]
  },
  {
   "cell_type": "markdown",
   "metadata": {
    "collapsed": true
   },
   "source": [
    "Numeric Example:\n",
    "\n",
    "In the example below, there are 7 runs: 4 runs of length 1 - with values 5, 3, 0 and 2. There are 3 runs of length 2 - 2 with values 2 and 1 with value 5. The matrix has 6 rows, representing the levels and 2 columns representing the length of the runs:"
   ]
  },
  {
   "cell_type": "code",
   "execution_count": 2,
   "metadata": {},
   "outputs": [
    {
     "name": "stdout",
     "output_type": "stream",
     "text": [
      "Input image\n",
      "[[1 1 5 3 0]\n",
      " [1 1 5 5 2]]\n",
      "Run Length Matrix\n"
     ]
    },
    {
     "ename": "IndexError",
     "evalue": "index 10 is out of bounds for axis 0 with size 6",
     "output_type": "error",
     "traceback": [
      "\u001b[0;31m---------------------------------------------------------------------------\u001b[0m",
      "\u001b[0;31mIndexError\u001b[0m                                Traceback (most recent call last)",
      "\u001b[0;32m<ipython-input-2-40122bacab7f>\u001b[0m in \u001b[0;36m<module>\u001b[0;34m()\u001b[0m\n\u001b[1;32m      8\u001b[0m \u001b[0;32mprint\u001b[0m \u001b[0mf\u001b[0m\u001b[0;34m\u001b[0m\u001b[0m\n\u001b[1;32m      9\u001b[0m \u001b[0;32mprint\u001b[0m \u001b[0;34m'Run Length Matrix'\u001b[0m\u001b[0;34m\u001b[0m\u001b[0m\n\u001b[0;32m---> 10\u001b[0;31m \u001b[0;32mprint\u001b[0m \u001b[0miarl\u001b[0m\u001b[0;34m(\u001b[0m\u001b[0mf\u001b[0m\u001b[0;34m)\u001b[0m\u001b[0;34m\u001b[0m\u001b[0m\n\u001b[0m",
      "\u001b[0;32m/home/lburini/Documents/IC/iarl.ipynb\u001b[0m in \u001b[0;36miarl\u001b[0;34m(f, theta, phi)\u001b[0m\n\u001b[1;32m     53\u001b[0m     \u001b[0;34m\"    \\n\"\u001b[0m\u001b[0;34m,\u001b[0m\u001b[0;34m\u001b[0m\u001b[0m\n\u001b[1;32m     54\u001b[0m     \u001b[0;34m\"    if len(f.shape)==2: # 2D input\\n\"\u001b[0m\u001b[0;34m,\u001b[0m\u001b[0;34m\u001b[0m\u001b[0m\n\u001b[0;32m---> 55\u001b[0;31m     \u001b[0;34m\"        if theta == np.pi/4: #rl right diagonal\\n\"\u001b[0m\u001b[0;34m,\u001b[0m\u001b[0;34m\u001b[0m\u001b[0m\n\u001b[0m\u001b[1;32m     56\u001b[0m     \u001b[0;34m\"            ee = np.array([[0,0,1],[0,1,0],[1,0,0]]).astype(bool)\\n\"\u001b[0m\u001b[0;34m,\u001b[0m\u001b[0;34m\u001b[0m\u001b[0m\n\u001b[1;32m     57\u001b[0m     \u001b[0;34m\"        elif theta == np.pi/2: # run lengh vertical\\n\"\u001b[0m\u001b[0;34m,\u001b[0m\u001b[0;34m\u001b[0m\u001b[0m\n",
      "\u001b[0;32m/home/lburini/Documents/IC/auxiliary_functions.ipynb\u001b[0m in \u001b[0;36mrl\u001b[0;34m(f, nc, cc)\u001b[0m\n\u001b[1;32m     10\u001b[0m   {\n\u001b[1;32m     11\u001b[0m    \u001b[0;34m\"cell_type\"\u001b[0m\u001b[0;34m:\u001b[0m \u001b[0;34m\"code\"\u001b[0m\u001b[0;34m,\u001b[0m\u001b[0;34m\u001b[0m\u001b[0m\n\u001b[0;32m---> 12\u001b[0;31m    \u001b[0;34m\"execution_count\"\u001b[0m\u001b[0;34m:\u001b[0m \u001b[0mnull\u001b[0m\u001b[0;34m,\u001b[0m\u001b[0;34m\u001b[0m\u001b[0m\n\u001b[0m\u001b[1;32m     13\u001b[0m    \"metadata\": {\n\u001b[1;32m     14\u001b[0m     \u001b[0;34m\"collapsed\"\u001b[0m\u001b[0;34m:\u001b[0m \u001b[0mtrue\u001b[0m\u001b[0;34m\u001b[0m\u001b[0m\n",
      "\u001b[0;32m/home/lburini/Documents/IC/auxiliary_functions.ipynb\u001b[0m in \u001b[0;36mrl_c\u001b[0;34m(nc, cc, result)\u001b[0m\n\u001b[1;32m     16\u001b[0m    \u001b[0;34m\"outputs\"\u001b[0m\u001b[0;34m:\u001b[0m \u001b[0;34m[\u001b[0m\u001b[0;34m]\u001b[0m\u001b[0;34m,\u001b[0m\u001b[0;34m\u001b[0m\u001b[0m\n\u001b[1;32m     17\u001b[0m    \"source\": [\n\u001b[0;32m---> 18\u001b[0;31m     \u001b[0;34m\"import numpy as np\\n\"\u001b[0m\u001b[0;34m,\u001b[0m\u001b[0;34m\u001b[0m\u001b[0m\n\u001b[0m\u001b[1;32m     19\u001b[0m     \u001b[0;34m\"import matplotlib.pyplot as plt\\n\"\u001b[0m\u001b[0;34m,\u001b[0m\u001b[0;34m\u001b[0m\u001b[0m\n\u001b[1;32m     20\u001b[0m     \u001b[0;34m\"from string import upper\\n\"\u001b[0m\u001b[0;34m,\u001b[0m\u001b[0;34m\u001b[0m\u001b[0m\n",
      "\u001b[0;31mIndexError\u001b[0m: index 10 is out of bounds for axis 0 with size 6"
     ]
    }
   ],
   "source": [
    "import numpy as np\n",
    "import nbimporter\n",
    "from iarl import *\n",
    "\n",
    "f = np.array([[1,1,5,3,0],\n",
    "              [1,1,5,5,2]])\n",
    "print 'Input image'\n",
    "print f\n",
    "print 'Run Length Matrix'\n",
    "print iarl(f)\n"
   ]
  },
  {
   "cell_type": "code",
   "execution_count": null,
   "metadata": {
    "collapsed": true
   },
   "outputs": [],
   "source": [
    "print 'Run Length Matrix'\n",
    "print iarl(f)\n",
    "print 'Run Length Matrix Descriptors:'\n",
    "print rldesc(f)"
   ]
  },
  {
   "cell_type": "code",
   "execution_count": null,
   "metadata": {
    "collapsed": true
   },
   "outputs": [],
   "source": [
    "f = np.array( [[0,1,1,0,0,0,0,0,0],\n",
    "               [1,0,0,0,0,0,0,1,0],\n",
    "               [1,0,0,1,0,0,0,1,0],\n",
    "               [0,0,0,0,0,1,1,0,0]], dtype=np.uint8)\n",
    "print 'Run Length Matrix'\n",
    "rl,desc = rldesc(f,np.pi/2)\n",
    "print rl\n",
    "print 'Run Length Matrix Descriptors:\\n', desc"
   ]
  },
  {
   "cell_type": "code",
   "execution_count": null,
   "metadata": {
    "collapsed": true
   },
   "outputs": [],
   "source": [
    "f = np.array([[1,1,0,0,0],\n",
    "              [1,1,8,0,2]])\n",
    "print 'Run Length Matrix'\n",
    "rl,desc = rldesc(f,mask = f>0)\n",
    "print rl\n",
    "print 'Run Length Matrix Descriptors:\\n', desc"
   ]
  },
  {
   "cell_type": "markdown",
   "metadata": {},
   "source": [
    "Using masks"
   ]
  },
  {
   "cell_type": "code",
   "execution_count": null,
   "metadata": {
    "collapsed": true
   },
   "outputs": [],
   "source": [
    "f = np.array([[1,1,0,0,9],\n",
    "              [1,1,8,0,9],\n",
    "              [1,0,8,0,9],\n",
    "              [9,9,9,9,9]])\n",
    "print 'Run Length Matrix'\n",
    "rl,desc = rldesc(f,mask = f<9)\n",
    "print rl\n",
    "print 'Run Length Matrix Descriptors:\\n', desc"
   ]
  },
  {
   "cell_type": "code",
   "execution_count": null,
   "metadata": {
    "collapsed": true
   },
   "outputs": [],
   "source": [
    "f = np.array([[1,0,0,0,1,0],\n",
    "              [0,1,8,1,1,1],\n",
    "              [2,2,2,8,2,8],\n",
    "              [0,1,8,1,1,1],\n",
    "              [9,9,9,9,9,9],\n",
    "              [1,1,1,0,8,1]])\n",
    "print 'Run Length Matrix'\n",
    "rl,desc = rldesc(f,mask = f<9)\n",
    "print rl\n",
    "print 'Run Length Matrix Descriptors:\\n', desc\n",
    "print \n",
    "print"
   ]
  },
  {
   "cell_type": "markdown",
   "metadata": {},
   "source": [
    "3D Examples"
   ]
  },
  {
   "cell_type": "code",
   "execution_count": null,
   "metadata": {
    "collapsed": true
   },
   "outputs": [],
   "source": [
    "f = np.array([[[1,2,2,0,0,1],[0,0,1,2,2,1],[1,1,0,0,0,2],[1,1,1,2,2,2],[1,1,2,2,0,0]],\n",
    "              [[1,2,2,0,0,1],[0,0,1,2,2,1],[1,1,0,0,0,2],[1,1,1,2,2,2],[1,1,2,2,0,0]],\n",
    "              [[1,2,2,0,0,1],[0,0,1,2,2,1],[1,1,0,0,0,2],[1,1,1,2,2,2],[1,1,2,2,0,0]]], dtype=np.uint8)\n",
    "print 'input array \\n',f\n",
    "rl,desc = rldesc(f) # orientation straight up\n",
    "print 'rl: \\n', rl\n",
    "print 'Run Length Descriptors\\n',desc"
   ]
  },
  {
   "cell_type": "markdown",
   "metadata": {},
   "source": [
    "Other directions"
   ]
  },
  {
   "cell_type": "code",
   "execution_count": null,
   "metadata": {
    "collapsed": true
   },
   "outputs": [],
   "source": [
    "rl,desc = rldesc(f,theta=np.pi/4,phi=np.pi/4) # orientation (45,45)\n",
    "print 'rl: \\n', rl\n",
    "print 'Run Length Descriptors',desc"
   ]
  },
  {
   "cell_type": "code",
   "execution_count": null,
   "metadata": {
    "collapsed": true
   },
   "outputs": [],
   "source": [
    "rl,desc = rldesc(f,theta=np.pi/4,phi=np.pi/2) # orientation (45,90)\n",
    "print 'rl: \\n', rl\n",
    "print 'Run Length Descriptors',desc"
   ]
  },
  {
   "cell_type": "code",
   "execution_count": null,
   "metadata": {
    "collapsed": true
   },
   "outputs": [],
   "source": [
    "rl,desc = rldesc(f,theta=np.pi/4,phi=3*np.pi/4) # orientation (45,135)\n",
    "print 'rl: \\n', rl\n",
    "print 'Run Length Descriptors',desc"
   ]
  },
  {
   "cell_type": "code",
   "execution_count": null,
   "metadata": {
    "collapsed": true
   },
   "outputs": [],
   "source": [
    "rl,desc = rldesc(f,theta=np.pi/2,phi=np.pi/4) # orientation (90,45)\n",
    "print 'rl: \\n', rl\n",
    "print 'Run Length Descriptors',desc"
   ]
  },
  {
   "cell_type": "code",
   "execution_count": null,
   "metadata": {
    "collapsed": true
   },
   "outputs": [],
   "source": [
    "rl,desc = rldesc(f,theta=np.pi/2,phi=np.pi/2) # orientation (90,90)\n",
    "print 'rl: \\n', rl\n",
    "print 'Run Length Descriptors',desc"
   ]
  },
  {
   "cell_type": "code",
   "execution_count": null,
   "metadata": {
    "collapsed": true
   },
   "outputs": [],
   "source": [
    "rl,desc = rldesc(f,theta=np.pi/2,phi=3*np.pi/4) # orientation (90,135)\n",
    "print 'rl: \\n', rl\n",
    "print 'Run Length Descriptors',desc"
   ]
  },
  {
   "cell_type": "code",
   "execution_count": null,
   "metadata": {
    "collapsed": true
   },
   "outputs": [],
   "source": [
    "rl,desc = rldesc(f,theta=3*np.pi/4,phi=np.pi/4) # orientation (135,45)\n",
    "print 'rl: \\n', rl\n",
    "print 'Run Length Descriptors',desc"
   ]
  },
  {
   "cell_type": "code",
   "execution_count": null,
   "metadata": {
    "collapsed": true
   },
   "outputs": [],
   "source": [
    "rl,desc = rldesc(f,theta=3*np.pi/4,phi=np.pi/2) # orientation (135,90)\n",
    "print 'rl: \\n', rl\n",
    "print 'Run Length Descriptors',desc"
   ]
  },
  {
   "cell_type": "code",
   "execution_count": null,
   "metadata": {
    "collapsed": true
   },
   "outputs": [],
   "source": [
    "rl,desc = rldesc(f,theta=3*np.pi/4,phi=3*np.pi/4) # orientation (135,135)\n",
    "print 'rl: \\n', rl\n",
    "print 'Run Length Descriptors',desc"
   ]
  },
  {
   "cell_type": "code",
   "execution_count": null,
   "metadata": {
    "collapsed": true
   },
   "outputs": [],
   "source": [
    "rl,desc = rldesc(f,theta=0,phi=np.pi/4) # orientation (0,45)\n",
    "print 'rl: \\n', rl\n",
    "print 'Run Length Descriptors',desc"
   ]
  },
  {
   "cell_type": "code",
   "execution_count": null,
   "metadata": {
    "collapsed": true
   },
   "outputs": [],
   "source": [
    "rl,desc = rldesc(f,theta=0,phi=np.pi/2) # orientation (0,90)\n",
    "print 'rl: \\n', rl\n",
    "print 'Run Length Descriptors',desc"
   ]
  },
  {
   "cell_type": "code",
   "execution_count": null,
   "metadata": {
    "collapsed": true
   },
   "outputs": [],
   "source": [
    "rl,desc = rldesc(f,theta=0,phi=3*np.pi/4) # orientation (0,135)\n",
    "print 'rl: \\n', rl\n",
    "print 'Run Length Descriptors',desc"
   ]
  },
  {
   "cell_type": "markdown",
   "metadata": {},
   "source": [
    "Using mask:"
   ]
  },
  {
   "cell_type": "code",
   "execution_count": null,
   "metadata": {
    "collapsed": true
   },
   "outputs": [],
   "source": [
    "rl,desc = rldesc(f,mask = f!=1) # orientation straight up\n",
    "print 'rl: \\n', rl\n",
    "print 'Run Length Descriptors',desc"
   ]
  },
  {
   "cell_type": "markdown",
   "metadata": {},
   "source": [
    "# EQUATIONS"
   ]
  },
  {
   "cell_type": "markdown",
   "metadata": {
    "collapsed": true
   },
   "source": [
    "For the equations described hereafter let the $p(i,j)$ be the number of the times there is a run of length $j$ having grey level $i$, let $N_g$ be the number of grey levels and $N_r$ be the number of runs."
   ]
  },
  {
   "cell_type": "markdown",
   "metadata": {
    "collapsed": true
   },
   "source": [
    "<strong> Short Run Emphasis Inverse Moments </strong>\n",
    "$$ ShrtREmph = (\\sum\\limits_{i=1}^{N_g} \\sum\\limits_{j=1}^{N_r} \\frac{p(i,j)}{j^2})/C$$\n",
    "\n",
    "<strong> Long Run Emphasis Inverse Moments</strong>\n",
    "$$ LngREmph = (\\sum\\limits_{i=1}^{N_g} \\sum\\limits_{j=1}^{N_r} p(i,j)j^2)/C $$\n",
    "\n",
    "<strong> Grey Level Nonuniformity </strong>\n",
    "$$ GLevNonUni = (\\sum\\limits_{i=1}^{N_g}( \\sum\\limits_{j=1}^{N_r} p(i,j) )^2)/C$$\n",
    "\n",
    "<strong> Run Length Nonuniformity</strong>\n",
    "$$ RLNonUni =  (\\sum\\limits_{i=1}^{N_g}( \\sum\\limits_{j=1}^{N_r} p(i,j) )^2)/C $$\n",
    "\n",
    "\n",
    "<strong> Fraction of Image in Runs</strong>\n",
    "$$ Fraction = {\\sum\\limits_{i=1}^{N_g} \\sum\\limits_{j=1}^{N_r} p(i,j)} / {\\sum\\limits_{i=1}^{N_g} \\sum\\limits_{j=1}^{N_r} jp(i,j)} $$\n",
    "\n",
    "\n",
    "<strong> Coeficient C </strong>\n",
    "$$ C = \\sum\\limits_{i=1}^{N_g} \\sum\\limits_{j=1}^{N_r} p(i,j)$$\n"
   ]
  },
  {
   "cell_type": "markdown",
   "metadata": {},
   "source": [
    "# REFERENCE"
   ]
  },
  {
   "cell_type": "markdown",
   "metadata": {},
   "source": [
    "[Article about RL](http://www.cra.org/Activities/craw_archive/dmp/awards/2004/Xu/Papers/final_submission_paper_452_131_last.pdf)"
   ]
  },
  {
   "cell_type": "markdown",
   "metadata": {},
   "source": [
    "# SEE ALSO"
   ]
  },
  {
   "cell_type": "markdown",
   "metadata": {},
   "source": []
  }
 ],
 "metadata": {
  "kernelspec": {
   "display_name": "Python 2",
   "language": "python",
   "name": "python2"
  },
  "language_info": {
   "codemirror_mode": {
    "name": "ipython",
    "version": 2
   },
   "file_extension": ".py",
   "mimetype": "text/x-python",
   "name": "python",
   "nbconvert_exporter": "python",
   "pygments_lexer": "ipython2",
   "version": "2.7.13"
  }
 },
 "nbformat": 4,
 "nbformat_minor": 2
}
