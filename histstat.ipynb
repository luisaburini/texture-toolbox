{
 "cells": [
  {
   "cell_type": "markdown",
   "metadata": {},
   "source": [
    "# FUNCTION histstat"
   ]
  },
  {
   "cell_type": "markdown",
   "metadata": {},
   "source": [
    "The histstat function computes the statistics from the image histogram, which can be found at the [histogram](histogram.ipynb) notebook.\n",
    "\n",
    "<strong> stats  = histstat(f, h, mask =[]) </strong>\n",
    "<ul>\n",
    "    <li> <strong> Output </strong> </li>\n",
    "        <ul> \n",
    "            <li> <strong> stats: </strong> array with histogram' statistics </li>\n",
    "        </ul> \n",
    "    <li> <strong> Input </strong> </li>\n",
    "        <ul>\n",
    "            <li> <strong> f: </strong> input image (Two-Dimensional or Three-Dimensional)</li>\n",
    "            <li> <strong> mask: </strong> define the binary mask (Same dimention as the image)</li>\n",
    "            <li> <strong> h:  </strong> image histogram </li>\n",
    "        </ul>\n",
    "</ul>"
   ]
  },
  {
   "cell_type": "markdown",
   "metadata": {},
   "source": [
    "This function extracts some relevant statistics about the image from the histogram given by the histogram function. These statistics are:\n",
    "\n",
    "<ul>\n",
    "    <li> Mean; </li>\n",
    "    <li> Variance; </li>\n",
    "    <li> Skewness; </li>\n",
    "    <li> Kurtosis; </li>\n",
    "    <li> Percentile 01%; </li>\n",
    "    <li> Percentile 10%; </li>\n",
    "    <li> Percentile 50%; </li>\n",
    "    <li> Percentile 90%; </li>\n",
    "    <li> Percentile 99%; </li>\n",
    "    <li> Entropy; </li>\n",
    "    <li> Mode; </li>\n",
    "    <li> Median; </li>\n",
    "</ul>"
   ]
  },
  {
   "cell_type": "code",
   "execution_count": 2,
   "metadata": {},
   "outputs": [
    {
     "name": "stdout",
     "output_type": "stream",
     "text": [
      "Importing Jupyter notebook from ia636.ipynb\n",
      "Importing Jupyter notebook from histogram.ipynb\n"
     ]
    },
    {
     "data": {
      "text/html": [
       "<script>\n",
       "code_show=true; \n",
       "function code_toggle() {\n",
       " if (code_show){\n",
       " $('div.input').hide();\n",
       " } else {\n",
       " $('div.input').show();\n",
       " }\n",
       " code_show = !code_show\n",
       "} \n",
       "$( document ).ready(code_toggle);\n",
       "</script>\n",
       "<form action=\"javascript:code_toggle()\"><input type=\"submit\" value=\"Click here to toggle on/off the raw code.\"></form>"
      ],
      "text/plain": [
       "<IPython.core.display.HTML object>"
      ]
     },
     "execution_count": 2,
     "metadata": {},
     "output_type": "execute_result"
    }
   ],
   "source": [
    "import nbimporter\n",
    "from auxiliary_functions import *\n",
    "import ia636 as ia\n",
    "import numpy as np\n",
    "import matplotlib\n",
    "from IPython.display import HTML\n",
    "\n",
    "def histstat(f, h, mask=[],):\n",
    "       \n",
    "    hn = 1.0*h/h.sum()\n",
    "    stats = np.zeros(12)\n",
    "    \n",
    "    ### compute statistics ###\n",
    "    \n",
    "    n = len(h) # number of gray values\n",
    "    stats[0] = np.sum(np.arange(n)*hn)                                                   # media\n",
    "    stats[1] = np.sum(np.power((np.arange(n)-stats[0]),2)*hn)                            # variancia  \n",
    "    stats[2] = np.sum(np.power((np.arange(n)-stats[0]),3)*hn)/(np.power(stats[1],1.5))   # obliquidade\n",
    "    stats[3] = np.sum(np.power((np.arange(n)-stats[0]),4)*hn)/(np.power(stats[1],2))-3   # curtose\n",
    "    stats[4:9] = np.round(ia.iah2percentile(h,np.array([1,10,50,90,99])))                # 1, 10, 50, 90, 99 percentis \n",
    "        \n",
    "    ## extra attributes ##\n",
    "    \n",
    "    stats[9] = -1*(hn*np.log10(hn+np.spacing(1))).sum() \n",
    "    stats[10] = np.argmax(hn)      \n",
    "    stats[11] = np.where(np.cumsum(hn) >= 0.5)[0][0] \n",
    "    \n",
    "    if stats[1] == 0:\n",
    "        stats[2] = 0\n",
    "        stats[3] = 0\n",
    "    \n",
    "    return (stats)\n",
    "\n",
    "HTML('''<script>\n",
    "code_show=true; \n",
    "function code_toggle() {\n",
    " if (code_show){\n",
    " $('div.input').hide();\n",
    " } else {\n",
    " $('div.input').show();\n",
    " }\n",
    " code_show = !code_show\n",
    "} \n",
    "$( document ).ready(code_toggle);\n",
    "</script>\n",
    "<form action=\"javascript:code_toggle()\"><input type=\"submit\" value=\"Click here to toggle on/off the raw code.\"></form>''')\n"
   ]
  },
  {
   "cell_type": "markdown",
   "metadata": {},
   "source": [
    "# EXAMPLES"
   ]
  },
  {
   "cell_type": "code",
   "execution_count": 3,
   "metadata": {},
   "outputs": [
    {
     "name": "stdout",
     "output_type": "stream",
     "text": [
      "Numeric Example: Statistics\n",
      "[ 1.22222222  0.39506173 -0.20992233 -0.62109375  0.          1.          1.\n",
      "  2.          2.          0.40688542  1.          1.        ]\n"
     ]
    }
   ],
   "source": [
    "import nbimporter\n",
    "import numpy as np\n",
    "import ia636 as ia\n",
    "import scipy\n",
    "import histogram as h\n",
    "\n",
    "# Numeric Example\n",
    "f = np.array([1,1,1,0,1,2,2,2,1])\n",
    "histo = h.hist(f)\n",
    "stats = histstat(f, histo)\n",
    "print ('Numeric Example: Statistics')\n",
    "print(stats)\n"
   ]
  },
  {
   "cell_type": "code",
   "execution_count": 4,
   "metadata": {},
   "outputs": [
    {
     "name": "stdout",
     "output_type": "stream",
     "text": [
      "Numeric Example using a mask: Statistics\n",
      "[ 1.22222222  0.39506173 -0.20992233 -0.62109375  0.          1.          1.\n",
      "  2.          2.          0.40688542  1.          1.        ]\n"
     ]
    }
   ],
   "source": [
    "# Numeric Example using a mask\n",
    "\n",
    "\n",
    "f = np.array([1,1,1,0,1,2,2,2,1])\n",
    "histo = h.hist(f)\n",
    "mask = f>0\n",
    "stats = histstat(f, histo, mask)\n",
    "print('Numeric Example using a mask: Statistics')\n",
    "print(stats)\n",
    "\n"
   ]
  },
  {
   "cell_type": "code",
   "execution_count": 5,
   "metadata": {},
   "outputs": [
    {
     "name": "stdout",
     "output_type": "stream",
     "text": [
      "Numeric Example 3D: Statistics\n",
      "[ 0.91666667  0.49305556  0.11700664 -0.97242611  0.          0.          1.\n",
      "  2.          2.          0.44851494  1.          1.        ]\n"
     ]
    }
   ],
   "source": [
    "# Numeric Example 3D\n",
    "\n",
    "f = np.array([1,1,1,0,1,2,2,2,1,0,0,0,1,1,1,1,2,0,1,1,2,1,0,0]).reshape(2,3,4)\n",
    "histo = h.hist(f)\n",
    "stats = histstat(f, histo)\n",
    "print('Numeric Example 3D: Statistics')\n",
    "print(stats)"
   ]
  },
  {
   "cell_type": "code",
   "execution_count": 6,
   "metadata": {},
   "outputs": [
    {
     "name": "stdout",
     "output_type": "stream",
     "text": [
      "Numeric Example 3D: Statistics\n",
      "[ 1.03333333  0.63222222 -0.05953097 -1.41606308  0.          0.          1.\n",
      "  2.          2.          0.47567118  1.          1.        ]\n"
     ]
    }
   ],
   "source": [
    "# Numeric Example 3D\n",
    "\n",
    "f = np.array([[[1,2,2,0,0,1],[0,0,1,2,2,1],[1,1,0,0,0,2],[1,1,1,2,2,2],[1,1,2,2,0,0]], [[1,2,2,0,0,1],[0,0,1,2,2,1],[1,1,0,0,0,2],[1,1,1,2,2,2],[1,1,2,2,0,0]], [[1,2,2,0,0,1],[0,0,1,2,2,1],[1,1,0,0,0,2],[1,1,1,2,2,2],[1,1,2,2,0,0]]])\n",
    "histo = h.hist(f)\n",
    "stats = histstat(f, histo)\n",
    "print('Numeric Example 3D: Statistics')\n",
    "print(stats)\n"
   ]
  },
  {
   "cell_type": "code",
   "execution_count": 7,
   "metadata": {},
   "outputs": [
    {
     "name": "stdout",
     "output_type": "stream",
     "text": [
      "Numeric Example 3D using a mask: Statistics\n",
      "[ 0.91666667  0.49305556  0.11700664 -0.97242611  0.          0.          1.\n",
      "  2.          2.          0.44851494  1.          1.        ]\n"
     ]
    }
   ],
   "source": [
    "# Numeric Example 3D using a mask\n",
    "\n",
    "f = np.array([1,1,1,0,1,2,2,2,1,0,0,0,1,1,1,1,2,0,1,1,2,1,0,0]).reshape(2,3,4)\n",
    "histo = h.hist(f)\n",
    "stats = histstat(f, histo, mask = f>0)\n",
    "print('Numeric Example 3D using a mask: Statistics')\n",
    "print(stats)\n",
    "\n"
   ]
  },
  {
   "cell_type": "code",
   "execution_count": null,
   "metadata": {},
   "outputs": [],
   "source": [
    "# Image Example\n",
    "%matplotlib inline\n",
    "import matplotlib.pyplot as plt\n",
    "import matplotlib.image as mpimg\n",
    "import numpy as np\n",
    "import ia636 as ia\n",
    "\n",
    "f = plt.imread('cameraman.png', 'gray')\n",
    "print ('f shape: ', f.shape)\n",
    "plt.imshow(f, 'gray')\n",
    "histo = h.hist(f)\n",
    "stats = histstat(f, histo)\n",
    "print('Image Example: Statistics')\n",
    "print(stats)\n",
    "print()\n"
   ]
  },
  {
   "cell_type": "markdown",
   "metadata": {
    "collapsed": true
   },
   "source": [
    "# EQUATIONS\n",
    "\n"
   ]
  },
  {
   "cell_type": "markdown",
   "metadata": {},
   "source": [
    "The follow equations represents the statistics equations, where $N$ denotes the number of intensity levels in the imagem ( usually between 0 and 255) and $p(x)$ is the probability density function, i.e. the normalized histogram (h) of the image, and $F$ is a random variable (any image) that represents the pixels intensities $f_i$."
   ]
  },
  {
   "cell_type": "markdown",
   "metadata": {},
   "source": [
    "$\\textbf{Mean}$\n",
    "$$\\mu(F) = \\sum\\limits_{i=1}^N f_i p(f_i)$$\n",
    "\n",
    "\n",
    "$\\textbf{Variance}$\n",
    "$$Var(F) = \\sum\\limits_{i=1}^N (f_i - \\mu )^{2}p(f_i)$$\n",
    "\n",
    "\n",
    "$\\textbf{Skewness}$\n",
    "$$Skewness(F) = \\frac{\\sum\\limits_{i=1}^N (f_i - \\mu )^ {3} p(f_i)}{Var^{1.5}}$$\n",
    "\n",
    "\n",
    "$\\textbf{Kurtosis}$\n",
    "$$Kurtosis(F) = {\\frac{\\sum\\limits_{i=1}^N (f_i - \\mu )^ {4} p(f_i)}{Var^{2}}}-3$$\n",
    "\n",
    "\n",
    "$\\textbf{Percentile}$\n",
    "\n",
    "The k-th percentile $P_k$ is the value $f_k$ that corresponds to the cumulative frequency of $\\frac{N_k}{100}$ where N is the amostral size.\n",
    "\n",
    "\n",
    "$\\textbf{Entropy}$\n",
    "$$ Entropy(F) = - \\sum\\limits_{i=1}^N p(f_i) log_2{(p(f_i))}$$\n",
    "\n",
    "$\\textbf{Mode}$\n",
    "\n",
    "The value that appears most often.\n",
    "\n",
    "\n",
    "$\\textbf{Median}$\n",
    "\n",
    "It is the numerical value separating the higher half of a data sample or a probability distribution.\n"
   ]
  },
  {
   "cell_type": "markdown",
   "metadata": {},
   "source": [
    "# REFERENCES"
   ]
  },
  {
   "cell_type": "markdown",
   "metadata": {},
   "source": [
    "CARTER, T., An introduction to information theory and entropy, 2014.\n",
    "\n",
    "DEAN, S., ILLOWSKY, Descriptive Statistics: Skewness and the Mean, Median, and Mode\n",
    "\n",
    "EVERITT, B. S., SKRONDAL, A. The Cambridge Dictionary of Statistics, Fourth Edition, 2010.\n",
    "\n",
    "ST0CKBURGER, D. W, Introductory Statistics: Concepts, Models, and Applications, 1996.\n",
    "\n"
   ]
  },
  {
   "cell_type": "code",
   "execution_count": null,
   "metadata": {
    "collapsed": true
   },
   "outputs": [],
   "source": []
  }
 ],
 "metadata": {
  "kernelspec": {
   "display_name": "Python 2",
   "language": "python",
   "name": "python2"
  },
  "language_info": {
   "codemirror_mode": {
    "name": "ipython",
    "version": 2
   },
   "file_extension": ".py",
   "mimetype": "text/x-python",
   "name": "python",
   "nbconvert_exporter": "python",
   "pygments_lexer": "ipython2",
   "version": "2.7.13"
  }
 },
 "nbformat": 4,
 "nbformat_minor": 2
}
