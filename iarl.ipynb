{
 "cells": [
  {
   "cell_type": "markdown",
   "metadata": {},
   "source": [
    "# FUNCTION iarl"
   ]
  },
  {
   "cell_type": "markdown",
   "metadata": {
    "collapsed": true
   },
   "source": [
    "The iarl function computes the Run Length Matrix of a 2D or 3D input image.\n",
    "\n",
    "<strong> result = iarl(f, theta, phi) </strong>\n",
    "\n",
    "<ul>\n",
    "    <li> <strong> Output </strong> </li>\n",
    "    <ul>\n",
    "        <li> <strong> result: </strong>run length matrix (2D or 3D) </li>\n",
    "    </ul>\n",
    "    <li> <strong> Input </strong> </li>    \n",
    "    <ul>\n",
    "        <li> <strong> f: </strong> ndarray input  </li>\n",
    "        <li> <strong> theta:</strong> angle (rad) in which the run length matrix must be computed</li>\n",
    "        <li> <strong> phi: </strong> other angle (rad) in which the run length matrix must be computed (3D cases)</li>\n",
    "    </ul>\n",
    "</ul>"
   ]
  },
  {
   "cell_type": "code",
   "execution_count": 1,
   "metadata": {},
   "outputs": [
    {
     "name": "stdout",
     "output_type": "stream",
     "text": [
      "Importing Jupyter notebook from auxiliary_functions.ipynb\n"
     ]
    }
   ],
   "source": [
    "import numpy as np\n",
    "import nbimporter\n",
    "from auxiliary_functions import *\n",
    "\n",
    "def iarl(f,theta=0,phi=0):\n",
    "    \n",
    "    if len(f.shape)==2: # 2D input\n",
    "        if theta == np.pi/4: #rl right diagonal\n",
    "            ee = np.array([[0,0,1],[0,1,0],[1,0,0]]).astype(bool)\n",
    "        elif theta == np.pi/2: # run lengh vertical\n",
    "            ee = np.ones((3,1)).astype(bool)\n",
    "        elif theta == 3*np.pi/4:#rl left diagonal\n",
    "            ee = np.array([[1,0,0],[0,1,0],[0,0,1]]).astype(bool)\n",
    "        else:# default option: horizontal run length\n",
    "            ee = np.ones((1,3)).astype(bool)\n",
    "    else: # 3D images\n",
    "        if theta == np.pi/4:\n",
    "            if phi == np.pi/4: #(45,45)\n",
    "                ee = np.array([[[0,0,1],[0,0,0],[0,0,0]],[[0,0,0],[0,1,0],[0,0,0]],[[0,0,0],[0,0,0],[1,0,0]]]).astype(bool)\n",
    "            elif phi == np.pi/2: #(45,90)\n",
    "                ee = np.array([[[0,0,0],[0,0,0],[0,0,0]],[[0,0,1],[0,1,0],[1,0,0]],[[0,0,0],[0,0,0],[0,0,0]]]).astype(bool)\n",
    "            elif phi == 3*np.pi/4: #(45,135)\n",
    "                ee = np.array([[[0,0,0],[0,0,0],[1,0,0]],[[0,0,0],[0,1,0],[0,0,0]],[[0,0,1],[0,0,0],[0,0,0]]]).astype(bool)\n",
    "        elif theta == np.pi/2:\n",
    "            if phi == np.pi/4: #(90,45)\n",
    "                ee = np.array([[[0,0,0],[0,0,0],[0,1,0]],[[0,0,0],[0,1,0],[0,0,0]],[[0,1,0],[0,0,0],[0,0,0]]]).astype(bool)\n",
    "            elif phi == np.pi/2: #(90,90)\n",
    "                ee = np.array([[[0,0,0],[0,0,0],[0,0,0]],[[0,1,0],[0,1,0],[0,1,0]],[[0,0,0],[0,0,0],[0,0,0]]]).astype(bool)\n",
    "            elif phi == 3*np.pi/4: #(90,135)\n",
    "                ee = np.array([[[0,1,0],[0,0,0],[0,0,0]],[[0,0,0],[0,1,0],[0,0,0]],[[0,0,0],[0,0,0],[0,1,0]]]).astype(bool)\n",
    "        elif theta == 3*np.pi/4:\n",
    "            if phi == np.pi/4: #(135,45)\n",
    "                ee = np.array([[[0,0,0],[0,0,0],[0,0,1]],[[0,0,0],[0,1,0],[0,0,0]],[[1,0,0],[0,0,0],[0,0,0]]]).astype(bool)\n",
    "            elif phi == np.pi/2: #(135,90)\n",
    "                ee = np.array([[[0,0,0],[0,0,0],[0,0,0]],[[1,0,0],[0,1,0],[0,0,1]],[[0,0,0],[0,0,0],[0,0,0]]]).astype(bool)\n",
    "            elif phi == 3*np.pi/4: # (135,135)\n",
    "                ee = np.array([[[1,0,0],[0,0,0],[0,0,0]],[[0,0,0],[0,1,0],[0,0,0]],[[0,0,0],[0,0,0],[0,0,1]]]).astype(bool)\n",
    "        else: # default option theta = 0\n",
    "            if phi == np.pi/4:# (0,45)\n",
    "                ee = np.array([[[0,0,0],[0,0,1],[0,0,0]],[[0,0,0],[0,1,0],[0,0,0]],[[0,0,0],[1,0,0],[0,0,0]]]).astype(bool)\n",
    "            elif phi == np.pi/2: # (0,90)\n",
    "                ee =  np.array([[[0,0,0],[0,0,0],[0,0,0]],[[0,0,0],[1,1,1],[0,0,0]],[[0,0,0],[0,0,0],[0,0,0]]]).astype(bool)\n",
    "            elif phi == 3*np.pi/4: #(0,135)\n",
    "                ee =  np.array([[[0,0,0],[1,0,0],[0,0,0]],[[0,0,0],[0,1,0],[0,0,0]],[[0,0,0],[0,0,1],[0,0,0]]]).astype(bool)\n",
    "            else:# straight up (0,0)\n",
    "                ee =  np.array([[[0,0,0],[0,1,0],[0,0,0]],[[0,0,0],[0,1,0],[0,0,0]],[[0,0,0],[0,1,0],[0,0,0]]]).astype(bool)\n",
    "    fr = ialabelflat(f,ee)\n",
    " \n",
    "    u, indices = np.unique(np.ravel(fr),return_index=True)\n",
    "    f = np.ravel(f)\n",
    "    nc =  f[np.int_(indices)] # check the gray level of each blob\n",
    "    y = np.bincount(np.ravel(fr))\n",
    "    ii = np.nonzero(y)[0]\n",
    "    cc = y[ii] # check the size of each blob\n",
    "    result = rl(f, nc.astype(np.int32),cc.astype(np.int32))\n",
    "\n",
    "    return result*1.0"
   ]
  },
  {
   "cell_type": "code",
   "execution_count": null,
   "metadata": {
    "collapsed": true
   },
   "outputs": [],
   "source": []
  }
 ],
 "metadata": {
  "kernelspec": {
   "display_name": "Python 2",
   "language": "python",
   "name": "python2"
  },
  "language_info": {
   "codemirror_mode": {
    "name": "ipython",
    "version": 2
   },
   "file_extension": ".py",
   "mimetype": "text/x-python",
   "name": "python",
   "nbconvert_exporter": "python",
   "pygments_lexer": "ipython2",
   "version": "2.7.13"
  }
 },
 "nbformat": 4,
 "nbformat_minor": 2
}
